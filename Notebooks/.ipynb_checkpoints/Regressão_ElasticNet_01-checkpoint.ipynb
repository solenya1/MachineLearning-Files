{
 "cells": [
  {
   "cell_type": "markdown",
   "metadata": {},
   "source": [
    "## Elastic Net\n",
    "\n",
    "[Documentação Elastic Net](shorturl.at/euHOR)\n",
    "\n",
    "`sklearn.linear_model.ElasticNet`\n",
    "\n",
    "Regressão Linear que combina L1 + L2.\n",
    "\n",
    "Minimiza a função Objetiva:\n",
    "\n",
    "```\n",
    "1 / (2 * n_samples) * ||y - Xw||^2_2\n",
    "+ alpha * l1_ratio * ||w||_1\n",
    "+ 0.5 * alpha * (1 - l1_ratio) * ||w||^2_2\n",
    "\n",
    "``` \n",
    "\n",
    "\n",
    "Se você estiver interessado em controlar as penalidades separadamente de L1 e L2, tenha em mente que isso é equivalente á:\n",
    "\n",
    "```a * L1 + b * L2```\n",
    "\n",
    "Onde:\n",
    "\n",
    "```alpha = a + b and l1_ratio = a / (a + b)```\n",
    "\n",
    "\n"
   ]
  },
  {
   "cell_type": "code",
   "execution_count": null,
   "metadata": {},
   "outputs": [],
   "source": [
    "import pandas as pd\n",
    "import numpy as np"
   ]
  }
 ],
 "metadata": {
  "kernelspec": {
   "display_name": "Python 3",
   "language": "python",
   "name": "python3"
  },
  "language_info": {
   "codemirror_mode": {
    "name": "ipython",
    "version": 3
   },
   "file_extension": ".py",
   "mimetype": "text/x-python",
   "name": "python",
   "nbconvert_exporter": "python",
   "pygments_lexer": "ipython3",
   "version": "3.8.3"
  }
 },
 "nbformat": 4,
 "nbformat_minor": 4
}
