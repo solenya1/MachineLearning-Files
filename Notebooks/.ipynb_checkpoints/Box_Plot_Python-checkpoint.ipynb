{
 "cells": [
  {
   "cell_type": "markdown",
   "metadata": {},
   "source": [
    "# Box Plot \n",
    "\n",
    "Os limites(LS, LI) servem para mostrar os pontos outliers ou seja os pontos fora da curva\n",
    "\n",
    "### Formula para calcular os valores de LS e LI\n",
    "LS = Q3 + 1.5*(Q3-Q1)\n",
    "\n",
    "LI = Q1 + 1.5*(Q3-Q1)\n",
    "\n",
    "![Box-Plot](https://www.portalaction.com.br/sites/default/files/resize/EstatisticaBasica/figuras/boxplot1-700x354.png)"
   ]
  },
  {
   "cell_type": "code",
   "execution_count": 1,
   "metadata": {},
   "outputs": [],
   "source": [
    "import pandas as pd\n",
    "import matplotlib.pyplot as plt"
   ]
  },
  {
   "cell_type": "code",
   "execution_count": null,
   "metadata": {},
   "outputs": [],
   "source": []
  }
 ],
 "metadata": {
  "kernelspec": {
   "display_name": "Python 3",
   "language": "python",
   "name": "python3"
  },
  "language_info": {
   "codemirror_mode": {
    "name": "ipython",
    "version": 3
   },
   "file_extension": ".py",
   "mimetype": "text/x-python",
   "name": "python",
   "nbconvert_exporter": "python",
   "pygments_lexer": "ipython3",
   "version": "3.7.6"
  }
 },
 "nbformat": 4,
 "nbformat_minor": 4
}
