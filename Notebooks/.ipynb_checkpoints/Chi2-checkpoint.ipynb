{
 "cells": [
  {
   "cell_type": "code",
   "execution_count": 2,
   "metadata": {},
   "outputs": [
    {
     "name": "stdout",
     "output_type": "stream",
     "text": [
      "Scores: [18.96296296  0.02325581  4.34841629]\n",
      "Resultado da transformação: \n",
      " [[12 30]\n",
      " [15  6]\n",
      " [16 90]\n",
      " [ 5 20]\n",
      " [ 4  5]\n",
      " [ 2 70]]\n"
     ]
    }
   ],
   "source": [
    "from sklearn.feature_selection import SelectKBest\n",
    "from sklearn.feature_selection import chi2\n",
    "\n",
    "#Definindo variaveis preditoras e target\n",
    "x = [[12, 2, 30], [15, 11, 6], [16, 8, 90], [5, 3, 20] ,[4, 14, 5], [2, 5, 70]]\n",
    "y = [1, 1, 1, 0, 0, 0]\n",
    "\n",
    "#Selecionando duas variáveis com o maior chi-quadrado:\n",
    "algoritmo = SelectKBest(score_func=chi2, k=2)\n",
    "dados_das_melhores_preditoras = algoritmo.fit_transform(x, y)\n",
    "\n",
    "# Resultados\n",
    "print('Scores:', algoritmo.scores_)\n",
    "print('Resultado da transformação: \\n', dados_das_melhores_preditoras)"
   ]
  },
  {
   "cell_type": "code",
   "execution_count": 3,
   "metadata": {},
   "outputs": [],
   "source": [
    "from sklearn.datasets import load_iris\n",
    "import pandas as pd\n",
    "\n"
   ]
  },
  {
   "cell_type": "code",
   "execution_count": null,
   "metadata": {},
   "outputs": [],
   "source": []
  }
 ],
 "metadata": {
  "kernelspec": {
   "display_name": "Python 3",
   "language": "python",
   "name": "python3"
  },
  "language_info": {
   "codemirror_mode": {
    "name": "ipython",
    "version": 3
   },
   "file_extension": ".py",
   "mimetype": "text/x-python",
   "name": "python",
   "nbconvert_exporter": "python",
   "pygments_lexer": "ipython3",
   "version": "3.8.5"
  }
 },
 "nbformat": 4,
 "nbformat_minor": 4
}
