{
 "cells": [
  {
   "cell_type": "markdown",
   "metadata": {},
   "source": [
    "# Ajuste de Hiperparâmetros \n",
    "\n",
    "As duas técnicas que são bastante utilizada são:\n",
    "\n",
    "    - Grid Search\n",
    "    - Random Search\n",
    "    \n",
    "![image](https://miro.medium.com/max/363/1*Je_xZzHl49PjQGQbQmjHHQ.jpeg)\n",
    "\n",
    "## Oque são os hiper-parâmetros\n",
    "\n",
    "Hiperparâmetros são parâmetros de modelos que devem ser definidos antes de treinar o modelo, como por exemplo quando chamamos a função `Ridge()` um dos parâmetros é o `alpha` que pode variar a fim de gerar um melhor resultado, ou em `ElasticNet()` que devemos alterar a porcentagem que vai ser utilizada pela regularização L1 ou L2 definindo o `l1_ratio`. \n",
    "\n",
    "Para isso existem diferentes técnicas que buscam otimizá-los que resultará um melhor acurácia em seu modelo.\n",
    "\n",
    "## Random Search\n",
    "Técnica que viza suprir o problema com muitas combinações de hiperparâmetros. Isso deve ao fato de testar combinações aleatórias e os melhores resultados funciona como um guia para a escolha dos próximos hiperparâmetros.\n",
    "\n",
    "\n",
    "## Grid Search\n",
    "\n",
    "Essa técnica irá testar todas as combinações possíveis dos hiperparâmetros, exaustivamente. Basicamente, irá fornecer alguns vaores de input e testar todas as combinações plotando em um plano cartesiano *(por isso o nome **Grid**)*. Em seguida, selecionará os hiperparâmetros que obtiveram o menor erro.\n",
    "\n",
    "*Entretanto, sim irá custar mais computacionalmente ainda mais se os valores de hiperparâmetros e valores possíveis forem altos. Por exemplo, supondo que tenhamos 5 hiperparâmetros e 1000 valores possíveis para cada um. Segundo o grid search tentaremos 1000⁵, alguns casos nem processando paralelo pode ajudar.*\n"
   ]
  },
  {
   "cell_type": "code",
   "execution_count": 4,
   "metadata": {},
   "outputs": [],
   "source": [
    "import pandas as pd\n",
    "df = pd.read_csv(\"/home/gabriel/Documents/MachineLearning-Files/Exercicios/Datasets/Admission_Predict.csv\")\n",
    "df.drop('Serial No.', axis=1, inplace=True)"
   ]
  },
  {
   "cell_type": "code",
   "execution_count": 5,
   "metadata": {},
   "outputs": [
    {
     "data": {
      "text/html": [
       "<div>\n",
       "<style scoped>\n",
       "    .dataframe tbody tr th:only-of-type {\n",
       "        vertical-align: middle;\n",
       "    }\n",
       "\n",
       "    .dataframe tbody tr th {\n",
       "        vertical-align: top;\n",
       "    }\n",
       "\n",
       "    .dataframe thead th {\n",
       "        text-align: right;\n",
       "    }\n",
       "</style>\n",
       "<table border=\"1\" class=\"dataframe\">\n",
       "  <thead>\n",
       "    <tr style=\"text-align: right;\">\n",
       "      <th></th>\n",
       "      <th>GRE Score</th>\n",
       "      <th>TOEFL Score</th>\n",
       "      <th>University Rating</th>\n",
       "      <th>SOP</th>\n",
       "      <th>LOR</th>\n",
       "      <th>CGPA</th>\n",
       "      <th>Research</th>\n",
       "      <th>Chance of Admit</th>\n",
       "    </tr>\n",
       "  </thead>\n",
       "  <tbody>\n",
       "    <tr>\n",
       "      <th>0</th>\n",
       "      <td>337</td>\n",
       "      <td>118</td>\n",
       "      <td>4</td>\n",
       "      <td>4.5</td>\n",
       "      <td>4.5</td>\n",
       "      <td>9.65</td>\n",
       "      <td>1</td>\n",
       "      <td>0.92</td>\n",
       "    </tr>\n",
       "    <tr>\n",
       "      <th>1</th>\n",
       "      <td>324</td>\n",
       "      <td>107</td>\n",
       "      <td>4</td>\n",
       "      <td>4.0</td>\n",
       "      <td>4.5</td>\n",
       "      <td>8.87</td>\n",
       "      <td>1</td>\n",
       "      <td>0.76</td>\n",
       "    </tr>\n",
       "    <tr>\n",
       "      <th>2</th>\n",
       "      <td>316</td>\n",
       "      <td>104</td>\n",
       "      <td>3</td>\n",
       "      <td>3.0</td>\n",
       "      <td>3.5</td>\n",
       "      <td>8.00</td>\n",
       "      <td>1</td>\n",
       "      <td>0.72</td>\n",
       "    </tr>\n",
       "    <tr>\n",
       "      <th>3</th>\n",
       "      <td>322</td>\n",
       "      <td>110</td>\n",
       "      <td>3</td>\n",
       "      <td>3.5</td>\n",
       "      <td>2.5</td>\n",
       "      <td>8.67</td>\n",
       "      <td>1</td>\n",
       "      <td>0.80</td>\n",
       "    </tr>\n",
       "    <tr>\n",
       "      <th>4</th>\n",
       "      <td>314</td>\n",
       "      <td>103</td>\n",
       "      <td>2</td>\n",
       "      <td>2.0</td>\n",
       "      <td>3.0</td>\n",
       "      <td>8.21</td>\n",
       "      <td>0</td>\n",
       "      <td>0.65</td>\n",
       "    </tr>\n",
       "  </tbody>\n",
       "</table>\n",
       "</div>"
      ],
      "text/plain": [
       "   GRE Score  TOEFL Score  University Rating  SOP  LOR   CGPA  Research  \\\n",
       "0        337          118                  4  4.5   4.5  9.65         1   \n",
       "1        324          107                  4  4.0   4.5  8.87         1   \n",
       "2        316          104                  3  3.0   3.5  8.00         1   \n",
       "3        322          110                  3  3.5   2.5  8.67         1   \n",
       "4        314          103                  2  2.0   3.0  8.21         0   \n",
       "\n",
       "   Chance of Admit   \n",
       "0              0.92  \n",
       "1              0.76  \n",
       "2              0.72  \n",
       "3              0.80  \n",
       "4              0.65  "
      ]
     },
     "execution_count": 5,
     "metadata": {},
     "output_type": "execute_result"
    }
   ],
   "source": [
    "df.head()"
   ]
  },
  {
   "cell_type": "code",
   "execution_count": 6,
   "metadata": {},
   "outputs": [],
   "source": [
    "# Separando as variáveis entre preditoras e variável target\n",
    "y = df['Chance of Admit ']\n",
    "x = df.drop('Chance of Admit ', axis=1)"
   ]
  },
  {
   "cell_type": "code",
   "execution_count": 7,
   "metadata": {},
   "outputs": [],
   "source": [
    "from sklearn.model_selection import RandomizedSearchCV\n",
    "from sklearn.linear_model import ElasticNet"
   ]
  },
  {
   "cell_type": "markdown",
   "metadata": {},
   "source": [
    "É importante que os valores sejam colocados em um dicionário informando quais os paramêtros e os valores que irão ser testados."
   ]
  },
  {
   "cell_type": "code",
   "execution_count": 8,
   "metadata": {},
   "outputs": [],
   "source": [
    "# Definindo os valores que serão testados:\n",
    "alpha_values = [0.1, 0.5, 1, 2, 5, 10, 25, 50, 100, 150, 200, 300, 500, 750, 1000, 1500, 2000, 3000, 5000]\n",
    "l1_ratio_values = [0.002, 0.02, 0.05, 0.1, 0.2, 0.3, 0.4, 0.5, 0.6, 0.7, 0.8, 0.9]\n",
    "\n",
    "valores= {'alpha':alpha_values, 'l1_ratio':l1_ratio_values}"
   ]
  },
  {
   "cell_type": "markdown",
   "metadata": {},
   "source": [
    "Entendendo a função `RandomizedSearchCV`, que neste caso estamos passando 4 parametros mas o `random_state`, que são:\n",
    "\n",
    "**estimator** : Que é o modelo de Regressão que vamos utilizar;\n",
    "\n",
    "**param_distributions** : São os valores que deverão ser informados para a função testar, neste caso estamos informando `valores` que são o `alpha` e o `l1_ratio`, *(LEMBRANDO QUE A ENTRADA DESSE VALOR DEVERÁ SER UM **DICIONÁRIO**)*;\n",
    "\n",
    "**n_iter** : Número de iterações que o algoritmo deverá realizar;\n",
    "\n",
    "**cv** : Aqui estamos indicando qual a quantidade folds que desejamos como quando é utilizado o `K-Fold`, Como se fosse o valore de K do K-fold."
   ]
  },
  {
   "cell_type": "code",
   "execution_count": 11,
   "metadata": {},
   "outputs": [
    {
     "name": "stdout",
     "output_type": "stream",
     "text": [
      "Melhor Score :: 0.7478459941349235\n",
      "Melhor Alpha :: 0.1\n",
      "Melhor l1_ratio :: 0.002\n"
     ]
    }
   ],
   "source": [
    "# Criando o modelo:\n",
    "modelo = ElasticNet()\n",
    "procura = RandomizedSearchCV(estimator = modelo, param_distributions=valores, n_iter=150, cv=5, random_state=15, n_jobs=-1)\n",
    "procura.fit(x, y)\n",
    "\n",
    "#Imprimindo o resultado:\n",
    "print('Melhor Score ::', procura.best_score_)\n",
    "print('Melhor Alpha ::', procura.best_estimator_.alpha)\n",
    "print('Melhor l1_ratio ::', procura.best_estimator_.l1_ratio)"
   ]
  },
  {
   "cell_type": "code",
   "execution_count": null,
   "metadata": {},
   "outputs": [],
   "source": []
  }
 ],
 "metadata": {
  "kernelspec": {
   "display_name": "Python 3",
   "language": "python",
   "name": "python3"
  },
  "language_info": {
   "codemirror_mode": {
    "name": "ipython",
    "version": 3
   },
   "file_extension": ".py",
   "mimetype": "text/x-python",
   "name": "python",
   "nbconvert_exporter": "python",
   "pygments_lexer": "ipython3",
   "version": "3.8.5"
  }
 },
 "nbformat": 4,
 "nbformat_minor": 4
}
