{
 "cells": [
  {
   "cell_type": "markdown",
   "metadata": {},
   "source": [
    "## Primeiro Algoritmo de Regressão Linear"
   ]
  },
  {
   "cell_type": "code",
   "execution_count": 67,
   "metadata": {},
   "outputs": [
    {
     "data": {
      "image/png": "[encoded data removed]",
      "text/plain": [
       "<Figure size 432x288 with 1 Axes>"
      ]
     },
     "metadata": {
      "needs_background": "light"
     },
     "output_type": "display_data"
    }
   ],
   "source": [
    "from sklearn.datasets import make_regression\n",
    "import matplotlib.pyplot as plt\n",
    "# Gerando uma massa de dados :\n",
    "x, y = make_regression(n_samples=200, n_features=1, noise=30)\n",
    "# Mostrando no gráfico\n",
    "plt.scatter(x, y)\n",
    "plt.show()"
   ]
  },
  {
   "cell_type": "code",
   "execution_count": 68,
   "metadata": {},
   "outputs": [],
   "source": [
    "from sklearn.linear_model import LinearRegression\n",
    "# Criação do modelo:\n",
    "modelo = LinearRegression()"
   ]
  },
  {
   "cell_type": "code",
   "execution_count": 69,
   "metadata": {},
   "outputs": [
    {
     "data": {
      "text/plain": [
       "0.15224440109563542"
      ]
     },
     "execution_count": 69,
     "metadata": {},
     "output_type": "execute_result"
    }
   ],
   "source": [
    "modelo.fit(x, y)\n",
    "modelo.intercept_ # Coeficiente Linear da reta."
   ]
  },
  {
   "cell_type": "code",
   "execution_count": 70,
   "metadata": {},
   "outputs": [
    {
     "data": {
      "text/plain": [
       "array([48.50816923])"
      ]
     },
     "execution_count": 70,
     "metadata": {},
     "output_type": "execute_result"
    }
   ],
   "source": [
    "modelo.coef_ # Coeficiente Angular da reta.\n"
   ]
  },
  {
   "cell_type": "code",
   "execution_count": 71,
   "metadata": {},
   "outputs": [
    {
     "data": {
      "image/png": "[encoded data removed]",
      "text/plain": [
       "<Figure size 432x288 with 1 Axes>"
      ]
     },
     "metadata": {
      "needs_background": "light"
     },
     "output_type": "display_data"
    }
   ],
   "source": [
    "# Mostrando o resultado\n",
    "import numpy as np\n",
    "plt.scatter(x, y)\n",
    "xreg = np.arange(-3, 4, 1)\n",
    "plt.plot(xreg, 42.49981032*xreg-0.8997276043276359, color='red') # gráfico regressão\n",
    "plt.show()     # y = m.x + b"
   ]
  },
  {
   "cell_type": "markdown",
   "metadata": {},
   "source": [
    "## Testando com dados reais\n",
    "\n",
    "\n",
    "   Utilizando os dados obtidos de casos de COVID-19 em Goiânia e testando a Regressão Linear em cima dos dados para verificar se existe alguma reta que se poderia se adequar aos dados.\n",
    "   Como poder ser verificado a única reta que consegue representar os dados é a que compara a quantidade de casos com a quantidade de óbitos."
   ]
  },
  {
   "cell_type": "code",
   "execution_count": 72,
   "metadata": {},
   "outputs": [],
   "source": [
    "import pandas as pd\n",
    "\n",
    "df = pd.read_csv(\"/home/gab/Documents/COVID-19.csv\")"
   ]
  },
  {
   "cell_type": "code",
   "execution_count": 73,
   "metadata": {},
   "outputs": [
    {
     "data": {
      "text/html": [
       "<div>\n",
       "<style scoped>\n",
       "    .dataframe tbody tr th:only-of-type {\n",
       "        vertical-align: middle;\n",
       "    }\n",
       "\n",
       "    .dataframe tbody tr th {\n",
       "        vertical-align: top;\n",
       "    }\n",
       "\n",
       "    .dataframe thead th {\n",
       "        text-align: right;\n",
       "    }\n",
       "</style>\n",
       "<table border=\"1\" class=\"dataframe\">\n",
       "  <thead>\n",
       "    <tr style=\"text-align: right;\">\n",
       "      <th></th>\n",
       "      <th>dias</th>\n",
       "      <th>data</th>\n",
       "      <th>casos</th>\n",
       "      <th>obitos</th>\n",
       "      <th>internados</th>\n",
       "      <th>internados uti</th>\n",
       "      <th>casos diarios</th>\n",
       "      <th>obitos diarios</th>\n",
       "      <th>internados diarios</th>\n",
       "      <th>mortalidade</th>\n",
       "      <th>taxa de internados</th>\n",
       "      <th>taxa internados em uti</th>\n",
       "      <th>Unnamed: 12</th>\n",
       "    </tr>\n",
       "  </thead>\n",
       "  <tbody>\n",
       "    <tr>\n",
       "      <th>0</th>\n",
       "      <td>1</td>\n",
       "      <td>01/06/20</td>\n",
       "      <td>1977</td>\n",
       "      <td>63</td>\n",
       "      <td>188</td>\n",
       "      <td>114</td>\n",
       "      <td>30</td>\n",
       "      <td>3</td>\n",
       "      <td>0</td>\n",
       "      <td>0.0319</td>\n",
       "      <td>0.0951</td>\n",
       "      <td>0.6064</td>\n",
       "      <td>92.714286</td>\n",
       "    </tr>\n",
       "    <tr>\n",
       "      <th>1</th>\n",
       "      <td>2</td>\n",
       "      <td>02/06/20</td>\n",
       "      <td>2175</td>\n",
       "      <td>72</td>\n",
       "      <td>188</td>\n",
       "      <td>114</td>\n",
       "      <td>198</td>\n",
       "      <td>9</td>\n",
       "      <td>0</td>\n",
       "      <td>0.0331</td>\n",
       "      <td>0.0864</td>\n",
       "      <td>0.6064</td>\n",
       "      <td>NaN</td>\n",
       "    </tr>\n",
       "    <tr>\n",
       "      <th>2</th>\n",
       "      <td>3</td>\n",
       "      <td>03/06/20</td>\n",
       "      <td>2234</td>\n",
       "      <td>74</td>\n",
       "      <td>190</td>\n",
       "      <td>116</td>\n",
       "      <td>59</td>\n",
       "      <td>2</td>\n",
       "      <td>2</td>\n",
       "      <td>0.0331</td>\n",
       "      <td>0.0850</td>\n",
       "      <td>0.6105</td>\n",
       "      <td>NaN</td>\n",
       "    </tr>\n",
       "    <tr>\n",
       "      <th>3</th>\n",
       "      <td>4</td>\n",
       "      <td>04/06/20</td>\n",
       "      <td>2410</td>\n",
       "      <td>75</td>\n",
       "      <td>192</td>\n",
       "      <td>117</td>\n",
       "      <td>176</td>\n",
       "      <td>1</td>\n",
       "      <td>2</td>\n",
       "      <td>0.0311</td>\n",
       "      <td>0.0797</td>\n",
       "      <td>0.6094</td>\n",
       "      <td>NaN</td>\n",
       "    </tr>\n",
       "    <tr>\n",
       "      <th>4</th>\n",
       "      <td>5</td>\n",
       "      <td>05/06/20</td>\n",
       "      <td>2560</td>\n",
       "      <td>76</td>\n",
       "      <td>194</td>\n",
       "      <td>119</td>\n",
       "      <td>150</td>\n",
       "      <td>1</td>\n",
       "      <td>2</td>\n",
       "      <td>0.0297</td>\n",
       "      <td>0.0758</td>\n",
       "      <td>0.6134</td>\n",
       "      <td>NaN</td>\n",
       "    </tr>\n",
       "  </tbody>\n",
       "</table>\n",
       "</div>"
      ],
      "text/plain": [
       "   dias      data  casos  obitos  internados  internados uti  casos diarios  \\\n",
       "0     1  01/06/20   1977      63         188             114             30   \n",
       "1     2  02/06/20   2175      72         188             114            198   \n",
       "2     3  03/06/20   2234      74         190             116             59   \n",
       "3     4  04/06/20   2410      75         192             117            176   \n",
       "4     5  05/06/20   2560      76         194             119            150   \n",
       "\n",
       "   obitos diarios  internados diarios  mortalidade  taxa de internados  \\\n",
       "0               3                   0       0.0319              0.0951   \n",
       "1               9                   0       0.0331              0.0864   \n",
       "2               2                   2       0.0331              0.0850   \n",
       "3               1                   2       0.0311              0.0797   \n",
       "4               1                   2       0.0297              0.0758   \n",
       "\n",
       "   taxa internados em uti  Unnamed: 12  \n",
       "0                  0.6064    92.714286  \n",
       "1                  0.6064          NaN  \n",
       "2                  0.6105          NaN  \n",
       "3                  0.6094          NaN  \n",
       "4                  0.6134          NaN  "
      ]
     },
     "execution_count": 73,
     "metadata": {},
     "output_type": "execute_result"
    }
   ],
   "source": [
    "df.head()"
   ]
  },
  {
   "cell_type": "code",
   "execution_count": 123,
   "metadata": {},
   "outputs": [],
   "source": [
    "# Limpando os dados\n",
    "\n",
    "Dados = df[[\"casos\", \"obitos\"]]\n"
   ]
  },
  {
   "cell_type": "code",
   "execution_count": 124,
   "metadata": {},
   "outputs": [],
   "source": [
    "x = Dados[[\"casos\"]]\n",
    "y = Dados[[\"obitos\"]]\n"
   ]
  },
  {
   "cell_type": "code",
   "execution_count": 125,
   "metadata": {},
   "outputs": [
    {
     "data": {
      "image/png": "[encoded data removed]",
      "text/plain": [
       "<Figure size 432x288 with 1 Axes>"
      ]
     },
     "metadata": {
      "needs_background": "light"
     },
     "output_type": "display_data"
    }
   ],
   "source": [
    "plt.scatter(x, y)\n",
    "plt.show()"
   ]
  },
  {
   "cell_type": "code",
   "execution_count": 126,
   "metadata": {},
   "outputs": [
    {
     "data": {
      "text/plain": [
       "array([-13.12787895])"
      ]
     },
     "execution_count": 126,
     "metadata": {},
     "output_type": "execute_result"
    }
   ],
   "source": [
    "modelo.fit(x, y)\n",
    "modelo.intercept_"
   ]
  },
  {
   "cell_type": "code",
   "execution_count": 127,
   "metadata": {},
   "outputs": [
    {
     "data": {
      "text/plain": [
       "array([[0.02870604]])"
      ]
     },
     "execution_count": 127,
     "metadata": {},
     "output_type": "execute_result"
    }
   ],
   "source": [
    "modelo.coef_"
   ]
  },
  {
   "cell_type": "code",
   "execution_count": 130,
   "metadata": {},
   "outputs": [
    {
     "data": {
      "text/plain": [
       "[<matplotlib.lines.Line2D at 0x7f71f7e842e0>]"
      ]
     },
     "execution_count": 130,
     "metadata": {},
     "output_type": "execute_result"
    },
    {
     "data": {
      "image/png": "[encoded data removed]",
      "text/plain": [
       "<Figure size 432x288 with 1 Axes>"
      ]
     },
     "metadata": {
      "needs_background": "light"
     },
     "output_type": "display_data"
    }
   ],
   "source": [
    "plt.scatter(x, y)\n",
    "xreg = np.arange(1000, 14000, 1)\n",
    "plt.plot(xreg, 0.02870604*xreg-13.12787895, color=\"red\")"
   ]
  }
 ],
 "metadata": {
  "kernelspec": {
   "display_name": "Python 3",
   "language": "python",
   "name": "python3"
  },
  "language_info": {
   "codemirror_mode": {
    "name": "ipython",
    "version": 3
   },
   "file_extension": ".py",
   "mimetype": "text/x-python",
   "name": "python",
   "nbconvert_exporter": "python",
   "pygments_lexer": "ipython3",
   "version": "3.8.3"
  }
 },
 "nbformat": 4,
 "nbformat_minor": 4
}
