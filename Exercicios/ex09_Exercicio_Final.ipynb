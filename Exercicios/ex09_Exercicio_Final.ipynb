{
 "cells": [
  {
   "cell_type": "markdown",
   "metadata": {},
   "source": [
    "# Pre-Processing\n",
    "\n",
    "classes > 1000 amostras \n",
    "\n",
    "StyleId == Target "
   ]
  },
  {
   "cell_type": "code",
   "execution_count": 301,
   "metadata": {},
   "outputs": [],
   "source": [
    "import pandas as pd\n",
    "import numpy as np\n",
    "\n",
    "pd.set_option('display.max_columns', 23)\n",
    "df = pd.read_csv('/home/gabriel/Documents/MachineLearning-Files/Exercicios/Datasets/recipeData.csv', encoding= 'iso-8859-1')\n"
   ]
  },
  {
   "cell_type": "code",
   "execution_count": 302,
   "metadata": {},
   "outputs": [
    {
     "data": {
      "text/html": [
       "<div>\n",
       "<style scoped>\n",
       "    .dataframe tbody tr th:only-of-type {\n",
       "        vertical-align: middle;\n",
       "    }\n",
       "\n",
       "    .dataframe tbody tr th {\n",
       "        vertical-align: top;\n",
       "    }\n",
       "\n",
       "    .dataframe thead th {\n",
       "        text-align: right;\n",
       "    }\n",
       "</style>\n",
       "<table border=\"1\" class=\"dataframe\">\n",
       "  <thead>\n",
       "    <tr style=\"text-align: right;\">\n",
       "      <th></th>\n",
       "      <th>BeerID</th>\n",
       "      <th>Name</th>\n",
       "      <th>URL</th>\n",
       "      <th>Style</th>\n",
       "      <th>StyleID</th>\n",
       "      <th>Size(L)</th>\n",
       "      <th>OG</th>\n",
       "      <th>FG</th>\n",
       "      <th>ABV</th>\n",
       "      <th>IBU</th>\n",
       "      <th>Color</th>\n",
       "      <th>BoilSize</th>\n",
       "      <th>BoilTime</th>\n",
       "      <th>BoilGravity</th>\n",
       "      <th>Efficiency</th>\n",
       "      <th>MashThickness</th>\n",
       "      <th>SugarScale</th>\n",
       "      <th>BrewMethod</th>\n",
       "      <th>PitchRate</th>\n",
       "      <th>PrimaryTemp</th>\n",
       "      <th>PrimingMethod</th>\n",
       "      <th>PrimingAmount</th>\n",
       "      <th>UserId</th>\n",
       "    </tr>\n",
       "  </thead>\n",
       "  <tbody>\n",
       "    <tr>\n",
       "      <th>0</th>\n",
       "      <td>1</td>\n",
       "      <td>Vanilla Cream Ale</td>\n",
       "      <td>/homebrew/recipe/view/1633/vanilla-cream-ale</td>\n",
       "      <td>Cream Ale</td>\n",
       "      <td>45</td>\n",
       "      <td>21.77</td>\n",
       "      <td>1.055</td>\n",
       "      <td>1.013</td>\n",
       "      <td>5.48</td>\n",
       "      <td>17.65</td>\n",
       "      <td>4.83</td>\n",
       "      <td>28.39</td>\n",
       "      <td>75</td>\n",
       "      <td>1.038</td>\n",
       "      <td>70.0</td>\n",
       "      <td>NaN</td>\n",
       "      <td>Specific Gravity</td>\n",
       "      <td>All Grain</td>\n",
       "      <td>NaN</td>\n",
       "      <td>17.78</td>\n",
       "      <td>corn sugar</td>\n",
       "      <td>4.5 oz</td>\n",
       "      <td>116.0</td>\n",
       "    </tr>\n",
       "    <tr>\n",
       "      <th>1</th>\n",
       "      <td>2</td>\n",
       "      <td>Southern Tier Pumking clone</td>\n",
       "      <td>/homebrew/recipe/view/16367/southern-tier-pumk...</td>\n",
       "      <td>Holiday/Winter Special Spiced Beer</td>\n",
       "      <td>85</td>\n",
       "      <td>20.82</td>\n",
       "      <td>1.083</td>\n",
       "      <td>1.021</td>\n",
       "      <td>8.16</td>\n",
       "      <td>60.65</td>\n",
       "      <td>15.64</td>\n",
       "      <td>24.61</td>\n",
       "      <td>60</td>\n",
       "      <td>1.070</td>\n",
       "      <td>70.0</td>\n",
       "      <td>NaN</td>\n",
       "      <td>Specific Gravity</td>\n",
       "      <td>All Grain</td>\n",
       "      <td>NaN</td>\n",
       "      <td>NaN</td>\n",
       "      <td>NaN</td>\n",
       "      <td>NaN</td>\n",
       "      <td>955.0</td>\n",
       "    </tr>\n",
       "    <tr>\n",
       "      <th>2</th>\n",
       "      <td>3</td>\n",
       "      <td>Zombie Dust Clone - EXTRACT</td>\n",
       "      <td>/homebrew/recipe/view/5920/zombie-dust-clone-e...</td>\n",
       "      <td>American IPA</td>\n",
       "      <td>7</td>\n",
       "      <td>18.93</td>\n",
       "      <td>1.063</td>\n",
       "      <td>1.018</td>\n",
       "      <td>5.91</td>\n",
       "      <td>59.25</td>\n",
       "      <td>8.98</td>\n",
       "      <td>22.71</td>\n",
       "      <td>60</td>\n",
       "      <td>NaN</td>\n",
       "      <td>70.0</td>\n",
       "      <td>NaN</td>\n",
       "      <td>Specific Gravity</td>\n",
       "      <td>extract</td>\n",
       "      <td>NaN</td>\n",
       "      <td>NaN</td>\n",
       "      <td>NaN</td>\n",
       "      <td>NaN</td>\n",
       "      <td>NaN</td>\n",
       "    </tr>\n",
       "    <tr>\n",
       "      <th>3</th>\n",
       "      <td>4</td>\n",
       "      <td>Zombie Dust Clone - ALL GRAIN</td>\n",
       "      <td>/homebrew/recipe/view/5916/zombie-dust-clone-a...</td>\n",
       "      <td>American IPA</td>\n",
       "      <td>7</td>\n",
       "      <td>22.71</td>\n",
       "      <td>1.061</td>\n",
       "      <td>1.017</td>\n",
       "      <td>5.80</td>\n",
       "      <td>54.48</td>\n",
       "      <td>8.50</td>\n",
       "      <td>26.50</td>\n",
       "      <td>60</td>\n",
       "      <td>NaN</td>\n",
       "      <td>70.0</td>\n",
       "      <td>NaN</td>\n",
       "      <td>Specific Gravity</td>\n",
       "      <td>All Grain</td>\n",
       "      <td>NaN</td>\n",
       "      <td>NaN</td>\n",
       "      <td>NaN</td>\n",
       "      <td>NaN</td>\n",
       "      <td>NaN</td>\n",
       "    </tr>\n",
       "    <tr>\n",
       "      <th>4</th>\n",
       "      <td>5</td>\n",
       "      <td>Bakke Brygg Belgisk Blonde 50 l</td>\n",
       "      <td>/homebrew/recipe/view/89534/bakke-brygg-belgis...</td>\n",
       "      <td>Belgian Blond Ale</td>\n",
       "      <td>20</td>\n",
       "      <td>50.00</td>\n",
       "      <td>1.060</td>\n",
       "      <td>1.010</td>\n",
       "      <td>6.48</td>\n",
       "      <td>17.84</td>\n",
       "      <td>4.57</td>\n",
       "      <td>60.00</td>\n",
       "      <td>90</td>\n",
       "      <td>1.050</td>\n",
       "      <td>72.0</td>\n",
       "      <td>NaN</td>\n",
       "      <td>Specific Gravity</td>\n",
       "      <td>All Grain</td>\n",
       "      <td>NaN</td>\n",
       "      <td>19.00</td>\n",
       "      <td>Sukkerlake</td>\n",
       "      <td>6-7 g sukker/l</td>\n",
       "      <td>18325.0</td>\n",
       "    </tr>\n",
       "  </tbody>\n",
       "</table>\n",
       "</div>"
      ],
      "text/plain": [
       "   BeerID                             Name  \\\n",
       "0       1                Vanilla Cream Ale   \n",
       "1       2      Southern Tier Pumking clone   \n",
       "2       3      Zombie Dust Clone - EXTRACT   \n",
       "3       4    Zombie Dust Clone - ALL GRAIN   \n",
       "4       5  Bakke Brygg Belgisk Blonde 50 l   \n",
       "\n",
       "                                                 URL  \\\n",
       "0       /homebrew/recipe/view/1633/vanilla-cream-ale   \n",
       "1  /homebrew/recipe/view/16367/southern-tier-pumk...   \n",
       "2  /homebrew/recipe/view/5920/zombie-dust-clone-e...   \n",
       "3  /homebrew/recipe/view/5916/zombie-dust-clone-a...   \n",
       "4  /homebrew/recipe/view/89534/bakke-brygg-belgis...   \n",
       "\n",
       "                                Style  StyleID  Size(L)     OG     FG   ABV  \\\n",
       "0                           Cream Ale       45    21.77  1.055  1.013  5.48   \n",
       "1  Holiday/Winter Special Spiced Beer       85    20.82  1.083  1.021  8.16   \n",
       "2                        American IPA        7    18.93  1.063  1.018  5.91   \n",
       "3                        American IPA        7    22.71  1.061  1.017  5.80   \n",
       "4                   Belgian Blond Ale       20    50.00  1.060  1.010  6.48   \n",
       "\n",
       "     IBU  Color  BoilSize  BoilTime  BoilGravity  Efficiency  MashThickness  \\\n",
       "0  17.65   4.83     28.39        75        1.038        70.0            NaN   \n",
       "1  60.65  15.64     24.61        60        1.070        70.0            NaN   \n",
       "2  59.25   8.98     22.71        60          NaN        70.0            NaN   \n",
       "3  54.48   8.50     26.50        60          NaN        70.0            NaN   \n",
       "4  17.84   4.57     60.00        90        1.050        72.0            NaN   \n",
       "\n",
       "         SugarScale BrewMethod  PitchRate  PrimaryTemp PrimingMethod  \\\n",
       "0  Specific Gravity  All Grain        NaN        17.78    corn sugar   \n",
       "1  Specific Gravity  All Grain        NaN          NaN           NaN   \n",
       "2  Specific Gravity    extract        NaN          NaN           NaN   \n",
       "3  Specific Gravity  All Grain        NaN          NaN           NaN   \n",
       "4  Specific Gravity  All Grain        NaN        19.00    Sukkerlake   \n",
       "\n",
       "    PrimingAmount   UserId  \n",
       "0          4.5 oz    116.0  \n",
       "1             NaN    955.0  \n",
       "2             NaN      NaN  \n",
       "3             NaN      NaN  \n",
       "4  6-7 g sukker/l  18325.0  "
      ]
     },
     "execution_count": 302,
     "metadata": {},
     "output_type": "execute_result"
    }
   ],
   "source": [
    "df.head()"
   ]
  },
  {
   "cell_type": "code",
   "execution_count": 303,
   "metadata": {},
   "outputs": [
    {
     "data": {
      "text/plain": [
       "BeerID               0\n",
       "Name                 1\n",
       "URL                  0\n",
       "Style              596\n",
       "StyleID              0\n",
       "Size(L)              0\n",
       "OG                   0\n",
       "FG                   0\n",
       "ABV                  0\n",
       "IBU                  0\n",
       "Color                0\n",
       "BoilSize             0\n",
       "BoilTime             0\n",
       "BoilGravity       2990\n",
       "Efficiency           0\n",
       "MashThickness    29864\n",
       "SugarScale           0\n",
       "BrewMethod           0\n",
       "PitchRate        39252\n",
       "PrimaryTemp      22662\n",
       "PrimingMethod    67095\n",
       "PrimingAmount    69087\n",
       "UserId           50490\n",
       "dtype: int64"
      ]
     },
     "execution_count": 303,
     "metadata": {},
     "output_type": "execute_result"
    }
   ],
   "source": [
    "# Verifing  null-values\n",
    "\n",
    "df.isnull().sum()"
   ]
  },
  {
   "cell_type": "code",
   "execution_count": 304,
   "metadata": {},
   "outputs": [
    {
     "name": "stdout",
     "output_type": "stream",
     "text": [
      "<class 'pandas.core.frame.DataFrame'>\n",
      "RangeIndex: 73861 entries, 0 to 73860\n",
      "Data columns (total 23 columns):\n",
      " #   Column         Non-Null Count  Dtype  \n",
      "---  ------         --------------  -----  \n",
      " 0   BeerID         73861 non-null  int64  \n",
      " 1   Name           73860 non-null  object \n",
      " 2   URL            73861 non-null  object \n",
      " 3   Style          73265 non-null  object \n",
      " 4   StyleID        73861 non-null  int64  \n",
      " 5   Size(L)        73861 non-null  float64\n",
      " 6   OG             73861 non-null  float64\n",
      " 7   FG             73861 non-null  float64\n",
      " 8   ABV            73861 non-null  float64\n",
      " 9   IBU            73861 non-null  float64\n",
      " 10  Color          73861 non-null  float64\n",
      " 11  BoilSize       73861 non-null  float64\n",
      " 12  BoilTime       73861 non-null  int64  \n",
      " 13  BoilGravity    70871 non-null  float64\n",
      " 14  Efficiency     73861 non-null  float64\n",
      " 15  MashThickness  43997 non-null  float64\n",
      " 16  SugarScale     73861 non-null  object \n",
      " 17  BrewMethod     73861 non-null  object \n",
      " 18  PitchRate      34609 non-null  float64\n",
      " 19  PrimaryTemp    51199 non-null  float64\n",
      " 20  PrimingMethod  6766 non-null   object \n",
      " 21  PrimingAmount  4774 non-null   object \n",
      " 22  UserId         23371 non-null  float64\n",
      "dtypes: float64(13), int64(3), object(7)\n",
      "memory usage: 13.0+ MB\n"
     ]
    }
   ],
   "source": [
    "df.info()"
   ]
  },
  {
   "cell_type": "markdown",
   "metadata": {},
   "source": [
    "Columns to remove:\n",
    "\n",
    "* Name\n",
    "* Style\n",
    "* URL\n",
    "* MashThickness\n",
    "* PrimingMethod\n",
    "* PrimingAmount\n",
    "* UserId\n",
    "* PitchRate\n",
    "* PrimaryTemp\n",
    "* BeerID\n",
    "\n",
    "Columns to change class type:\n",
    "\n",
    "* SugarScale\n",
    "* BrewMethod\n",
    "\n",
    "Change null-values to Mean-values:\n",
    "\n",
    "* BoilGravity\n",
    "\n"
   ]
  },
  {
   "cell_type": "code",
   "execution_count": 305,
   "metadata": {},
   "outputs": [
    {
     "data": {
      "text/plain": [
       "Specific Gravity    71959\n",
       "Plato                1902\n",
       "Name: SugarScale, dtype: int64"
      ]
     },
     "execution_count": 305,
     "metadata": {},
     "output_type": "execute_result"
    }
   ],
   "source": [
    "df['SugarScale'].value_counts()"
   ]
  },
  {
   "cell_type": "code",
   "execution_count": 306,
   "metadata": {
    "scrolled": true
   },
   "outputs": [
    {
     "data": {
      "text/plain": [
       "All Grain       49692\n",
       "BIAB            12016\n",
       "extract          8626\n",
       "Partial Mash     3527\n",
       "Name: BrewMethod, dtype: int64"
      ]
     },
     "execution_count": 306,
     "metadata": {},
     "output_type": "execute_result"
    }
   ],
   "source": [
    "df[\"BrewMethod\"].value_counts()"
   ]
  },
  {
   "cell_type": "code",
   "execution_count": 307,
   "metadata": {},
   "outputs": [],
   "source": [
    "# Drop shit Data\n",
    "data_to_remove = ['BeerID','Name', 'URL', 'MashThickness', 'PrimingMethod',\n",
    "                 'PrimingAmount', 'UserId', 'Style', 'PrimaryTemp', 'PitchRate']\n",
    "\n",
    "for shit in data_to_remove:\n",
    "    df.drop(shit, axis=1 , inplace=True)"
   ]
  },
  {
   "cell_type": "code",
   "execution_count": 308,
   "metadata": {},
   "outputs": [],
   "source": [
    "# Change Columns Class in Object to Int values:\n",
    "\n",
    "df['SugarScale'] = df['SugarScale'].replace('Specific Gravity', 0)\n",
    "df['SugarScale'] = df['SugarScale'].replace('Plato', 1)\n",
    "df['SugarScale'] = df['SugarScale'].replace('All Grain', 2)\n",
    "\n",
    "\n",
    "df['BrewMethod'] = df['BrewMethod'].replace('All Grain', 0)\n",
    "df['BrewMethod'] = df['BrewMethod'].replace('BIAB', 1)\n",
    "df['BrewMethod'] = df['BrewMethod'].replace('extract', 2)\n",
    "df['BrewMethod'] = df['BrewMethod'].replace('Partial Mash', 3)"
   ]
  },
  {
   "cell_type": "code",
   "execution_count": 309,
   "metadata": {},
   "outputs": [],
   "source": [
    "remove_na = ['StyleID','Size(L)','OG','FG','ABV','IBU','Color',\n",
    "             'BoilSize','BoilTime','Efficiency','SugarScale',\n",
    "             'BrewMethod']        \n",
    "\n",
    "\n",
    "for values in remove_na:\n",
    "    df[values].fillna(method='ffill', inplace=True)\n"
   ]
  },
  {
   "cell_type": "code",
   "execution_count": 310,
   "metadata": {},
   "outputs": [
    {
     "name": "stdout",
     "output_type": "stream",
     "text": [
      "1.3539547487688244\n"
     ]
    }
   ],
   "source": [
    "# Null-Values of PrimaryTemp for Mean-Values\n",
    "BoilGravity_Mean = df[\"BoilGravity\"].mean()\n",
    "\n",
    "df[\"BoilGravity\"].fillna(method='ffill', inplace=True)\n",
    "print(BoilGravity_Mean)"
   ]
  },
  {
   "cell_type": "code",
   "execution_count": 311,
   "metadata": {
    "scrolled": false
   },
   "outputs": [
    {
     "data": {
      "text/html": [
       "<div>\n",
       "<style scoped>\n",
       "    .dataframe tbody tr th:only-of-type {\n",
       "        vertical-align: middle;\n",
       "    }\n",
       "\n",
       "    .dataframe tbody tr th {\n",
       "        vertical-align: top;\n",
       "    }\n",
       "\n",
       "    .dataframe thead th {\n",
       "        text-align: right;\n",
       "    }\n",
       "</style>\n",
       "<table border=\"1\" class=\"dataframe\">\n",
       "  <thead>\n",
       "    <tr style=\"text-align: right;\">\n",
       "      <th></th>\n",
       "      <th>StyleID</th>\n",
       "      <th>Size(L)</th>\n",
       "      <th>OG</th>\n",
       "      <th>FG</th>\n",
       "      <th>ABV</th>\n",
       "      <th>IBU</th>\n",
       "      <th>Color</th>\n",
       "      <th>BoilSize</th>\n",
       "      <th>BoilTime</th>\n",
       "      <th>BoilGravity</th>\n",
       "      <th>Efficiency</th>\n",
       "      <th>SugarScale</th>\n",
       "      <th>BrewMethod</th>\n",
       "    </tr>\n",
       "  </thead>\n",
       "  <tbody>\n",
       "    <tr>\n",
       "      <th>0</th>\n",
       "      <td>45</td>\n",
       "      <td>21.77</td>\n",
       "      <td>1.055</td>\n",
       "      <td>1.013</td>\n",
       "      <td>5.48</td>\n",
       "      <td>17.65</td>\n",
       "      <td>4.83</td>\n",
       "      <td>28.39</td>\n",
       "      <td>75</td>\n",
       "      <td>1.038</td>\n",
       "      <td>70.0</td>\n",
       "      <td>0</td>\n",
       "      <td>0</td>\n",
       "    </tr>\n",
       "    <tr>\n",
       "      <th>1</th>\n",
       "      <td>85</td>\n",
       "      <td>20.82</td>\n",
       "      <td>1.083</td>\n",
       "      <td>1.021</td>\n",
       "      <td>8.16</td>\n",
       "      <td>60.65</td>\n",
       "      <td>15.64</td>\n",
       "      <td>24.61</td>\n",
       "      <td>60</td>\n",
       "      <td>1.070</td>\n",
       "      <td>70.0</td>\n",
       "      <td>0</td>\n",
       "      <td>0</td>\n",
       "    </tr>\n",
       "    <tr>\n",
       "      <th>2</th>\n",
       "      <td>7</td>\n",
       "      <td>18.93</td>\n",
       "      <td>1.063</td>\n",
       "      <td>1.018</td>\n",
       "      <td>5.91</td>\n",
       "      <td>59.25</td>\n",
       "      <td>8.98</td>\n",
       "      <td>22.71</td>\n",
       "      <td>60</td>\n",
       "      <td>1.070</td>\n",
       "      <td>70.0</td>\n",
       "      <td>0</td>\n",
       "      <td>2</td>\n",
       "    </tr>\n",
       "    <tr>\n",
       "      <th>3</th>\n",
       "      <td>7</td>\n",
       "      <td>22.71</td>\n",
       "      <td>1.061</td>\n",
       "      <td>1.017</td>\n",
       "      <td>5.80</td>\n",
       "      <td>54.48</td>\n",
       "      <td>8.50</td>\n",
       "      <td>26.50</td>\n",
       "      <td>60</td>\n",
       "      <td>1.070</td>\n",
       "      <td>70.0</td>\n",
       "      <td>0</td>\n",
       "      <td>0</td>\n",
       "    </tr>\n",
       "    <tr>\n",
       "      <th>4</th>\n",
       "      <td>20</td>\n",
       "      <td>50.00</td>\n",
       "      <td>1.060</td>\n",
       "      <td>1.010</td>\n",
       "      <td>6.48</td>\n",
       "      <td>17.84</td>\n",
       "      <td>4.57</td>\n",
       "      <td>60.00</td>\n",
       "      <td>90</td>\n",
       "      <td>1.050</td>\n",
       "      <td>72.0</td>\n",
       "      <td>0</td>\n",
       "      <td>0</td>\n",
       "    </tr>\n",
       "  </tbody>\n",
       "</table>\n",
       "</div>"
      ],
      "text/plain": [
       "   StyleID  Size(L)     OG     FG   ABV    IBU  Color  BoilSize  BoilTime  \\\n",
       "0       45    21.77  1.055  1.013  5.48  17.65   4.83     28.39        75   \n",
       "1       85    20.82  1.083  1.021  8.16  60.65  15.64     24.61        60   \n",
       "2        7    18.93  1.063  1.018  5.91  59.25   8.98     22.71        60   \n",
       "3        7    22.71  1.061  1.017  5.80  54.48   8.50     26.50        60   \n",
       "4       20    50.00  1.060  1.010  6.48  17.84   4.57     60.00        90   \n",
       "\n",
       "   BoilGravity  Efficiency  SugarScale  BrewMethod  \n",
       "0        1.038        70.0           0           0  \n",
       "1        1.070        70.0           0           0  \n",
       "2        1.070        70.0           0           2  \n",
       "3        1.070        70.0           0           0  \n",
       "4        1.050        72.0           0           0  "
      ]
     },
     "execution_count": 311,
     "metadata": {},
     "output_type": "execute_result"
    }
   ],
   "source": [
    "df.head()"
   ]
  },
  {
   "cell_type": "code",
   "execution_count": 312,
   "metadata": {
    "scrolled": false
   },
   "outputs": [
    {
     "name": "stdout",
     "output_type": "stream",
     "text": [
      "<class 'pandas.core.frame.DataFrame'>\n",
      "RangeIndex: 73861 entries, 0 to 73860\n",
      "Data columns (total 13 columns):\n",
      " #   Column       Non-Null Count  Dtype  \n",
      "---  ------       --------------  -----  \n",
      " 0   StyleID      73861 non-null  int64  \n",
      " 1   Size(L)      73861 non-null  float64\n",
      " 2   OG           73861 non-null  float64\n",
      " 3   FG           73861 non-null  float64\n",
      " 4   ABV          73861 non-null  float64\n",
      " 5   IBU          73861 non-null  float64\n",
      " 6   Color        73861 non-null  float64\n",
      " 7   BoilSize     73861 non-null  float64\n",
      " 8   BoilTime     73861 non-null  int64  \n",
      " 9   BoilGravity  73861 non-null  float64\n",
      " 10  Efficiency   73861 non-null  float64\n",
      " 11  SugarScale   73861 non-null  int64  \n",
      " 12  BrewMethod   73861 non-null  int64  \n",
      "dtypes: float64(9), int64(4)\n",
      "memory usage: 7.3 MB\n"
     ]
    },
    {
     "data": {
      "text/plain": [
       "(73861, 13)"
      ]
     },
     "execution_count": 312,
     "metadata": {},
     "output_type": "execute_result"
    }
   ],
   "source": [
    "df.info()\n",
    "df.shape"
   ]
  },
  {
   "cell_type": "code",
   "execution_count": 313,
   "metadata": {
    "scrolled": true
   },
   "outputs": [
    {
     "name": "stdout",
     "output_type": "stream",
     "text": [
      "7      11940\n",
      "10      7581\n",
      "134     2617\n",
      "9       2277\n",
      "4       2038\n",
      "       ...  \n",
      "99         6\n",
      "16         6\n",
      "127        5\n",
      "164        2\n",
      "73         2\n",
      "Name: StyleID, Length: 176, dtype: int64\n"
     ]
    }
   ],
   "source": [
    "# Visualizando Quais classes possuem mas de 1000 amostras\n",
    "\n",
    "print(df['StyleID'].value_counts())"
   ]
  },
  {
   "cell_type": "code",
   "execution_count": 314,
   "metadata": {},
   "outputs": [],
   "source": [
    "# Selecionando as classes somente com mais de 1000 amostras\n",
    "selecao = df.loc[df[\"StyleID\"].isin([7, 10, 134, 9, 4, 30, 86, 12, 92, 6, 175, 39])]"
   ]
  },
  {
   "cell_type": "code",
   "execution_count": 315,
   "metadata": {},
   "outputs": [
    {
     "data": {
      "text/plain": [
       "(35424, 13)"
      ]
     },
     "execution_count": 315,
     "metadata": {},
     "output_type": "execute_result"
    }
   ],
   "source": [
    "selecao.shape"
   ]
  },
  {
   "cell_type": "code",
   "execution_count": 316,
   "metadata": {},
   "outputs": [
    {
     "data": {
      "image/png": "[encoded data removed]",
      "text/plain": [
       "<Figure size 720x720 with 2 Axes>"
      ]
     },
     "metadata": {
      "needs_background": "light"
     },
     "output_type": "display_data"
    }
   ],
   "source": [
    "# Visualizando as Correlações com HeatMap\n",
    "import seaborn as sns\n",
    "import matplotlib.pyplot as plt\n",
    "\n",
    "plt.figure(figsize=(10, 10))\n",
    "sns.heatmap(selecao.corr())\n",
    "plt.show()"
   ]
  },
  {
   "cell_type": "code",
   "execution_count": 317,
   "metadata": {
    "scrolled": false
   },
   "outputs": [
    {
     "data": {
      "text/plain": [
       "StyleID        0\n",
       "Size(L)        0\n",
       "OG             0\n",
       "FG             0\n",
       "ABV            0\n",
       "IBU            0\n",
       "Color          0\n",
       "BoilSize       0\n",
       "BoilTime       0\n",
       "BoilGravity    0\n",
       "Efficiency     0\n",
       "SugarScale     0\n",
       "BrewMethod     0\n",
       "dtype: int64"
      ]
     },
     "execution_count": 317,
     "metadata": {},
     "output_type": "execute_result"
    }
   ],
   "source": [
    "df.isnull().sum()"
   ]
  },
  {
   "cell_type": "markdown",
   "metadata": {},
   "source": [
    "# NOW IT'S TIME FOR ML SHIT"
   ]
  },
  {
   "cell_type": "markdown",
   "metadata": {},
   "source": [
    "## Decision Tree Regressor"
   ]
  },
  {
   "cell_type": "code",
   "execution_count": 318,
   "metadata": {},
   "outputs": [],
   "source": [
    "# Separate the data\n",
    "y = selecao['StyleID']\n",
    "x = selecao.drop('StyleID', axis=1)"
   ]
  },
  {
   "cell_type": "code",
   "execution_count": 336,
   "metadata": {},
   "outputs": [],
   "source": [
    "def modelosclassificacao(a, b):\n",
    "    from sklearn.linear_model import LogisticRegression\n",
    "    from sklearn.naive_bayes import GaussianNB\n",
    "    from sklearn.tree import DecisionTreeClassifier\n",
    "    from sklearn.neighbors import KNeighborsClassifier\n",
    "    from sklearn.preprocessing import MinMaxScaler\n",
    "    from sklearn.model_selection import StratifiedKFold\n",
    "    from sklearn.model_selection import cross_val_score\n",
    "    skfold = StratifiedKFold(n_splits=3)\n",
    "    x = a\n",
    "    y = b\n",
    "    #Normalizando as variáveis preditoras para o KNN:\n",
    "    normalizador = MinMaxScaler(feature_range=(0, 1))\n",
    "    x_norm = normalizador.fit_transform(x)\n",
    "    \n",
    "    logist = LogisticRegression(max_iter=40)\n",
    "    naive = GaussianNB()\n",
    "    decision_tree = DecisionTreeClassifier()\n",
    "    knn = KNeighborsClassifier()\n",
    "    resul_logist = cross_val_score(logist,x,y,cv = skfold)\n",
    "    resul_naive = cross_val_score(naive,x,y,cv=skfold)\n",
    "    resul_decision_tree = cross_val_score(decision_tree,x,y,cv=skfold)\n",
    "    resul_knn = cross_val_score(knn,x,y,cv=skfold)\n",
    "    dic_classmodels = {'logistica':resul_logist.mean(), 'Naive':resul_naive.mean(), 'Decision Tree':resul_decision_tree,\n",
    "                      'KNN':resul_knn.mean()}\n",
    "    #melhor_modelo = max(dic_classmodels, key=dic_classmodels.get)\n",
    "    print('Regressão Logistica:', resul_logist.mean(), 'Naive Bayes:', resul_naive.mean(), \"Decision Tree\", \n",
    "         resul_decision_tree.mean(), 'KNN:', resul_knn.mean())\n",
    "    #print('O melhor modelo foi:>', melhor_modelo, 'Com o valor:', dic_classmodels[melhor_modelo])\n",
    "    \n",
    "    "
   ]
  },
  {
   "cell_type": "code",
   "execution_count": 337,
   "metadata": {},
   "outputs": [
    {
     "name": "stderr",
     "output_type": "stream",
     "text": [
      "/home/gabriel/anaconda3/lib/python3.8/site-packages/sklearn/linear_model/_logistic.py:762: ConvergenceWarning: lbfgs failed to converge (status=1):\n",
      "STOP: TOTAL NO. of ITERATIONS REACHED LIMIT.\n",
      "\n",
      "Increase the number of iterations (max_iter) or scale the data as shown in:\n",
      "    https://scikit-learn.org/stable/modules/preprocessing.html\n",
      "Please also refer to the documentation for alternative solver options:\n",
      "    https://scikit-learn.org/stable/modules/linear_model.html#logistic-regression\n",
      "  n_iter_i = _check_optimize_result(\n",
      "/home/gabriel/anaconda3/lib/python3.8/site-packages/sklearn/linear_model/_logistic.py:762: ConvergenceWarning: lbfgs failed to converge (status=1):\n",
      "STOP: TOTAL NO. of ITERATIONS REACHED LIMIT.\n",
      "\n",
      "Increase the number of iterations (max_iter) or scale the data as shown in:\n",
      "    https://scikit-learn.org/stable/modules/preprocessing.html\n",
      "Please also refer to the documentation for alternative solver options:\n",
      "    https://scikit-learn.org/stable/modules/linear_model.html#logistic-regression\n",
      "  n_iter_i = _check_optimize_result(\n",
      "/home/gabriel/anaconda3/lib/python3.8/site-packages/sklearn/linear_model/_logistic.py:762: ConvergenceWarning: lbfgs failed to converge (status=1):\n",
      "STOP: TOTAL NO. of ITERATIONS REACHED LIMIT.\n",
      "\n",
      "Increase the number of iterations (max_iter) or scale the data as shown in:\n",
      "    https://scikit-learn.org/stable/modules/preprocessing.html\n",
      "Please also refer to the documentation for alternative solver options:\n",
      "    https://scikit-learn.org/stable/modules/linear_model.html#logistic-regression\n",
      "  n_iter_i = _check_optimize_result(\n"
     ]
    },
    {
     "name": "stdout",
     "output_type": "stream",
     "text": [
      "Regressão Logistica: 0.4259823848238482 Naive Bayes: 0.41536811201445345 Decision Tree 0.4623701445347787 KNN: 0.502710027100271\n"
     ]
    }
   ],
   "source": [
    "modelosclassificacao(x, y)"
   ]
  },
  {
   "cell_type": "code",
   "execution_count": null,
   "metadata": {},
   "outputs": [],
   "source": []
  },
  {
   "cell_type": "code",
   "execution_count": null,
   "metadata": {},
   "outputs": [],
   "source": []
  }
 ],
 "metadata": {
  "kernelspec": {
   "display_name": "Python 3",
   "language": "python",
   "name": "python3"
  },
  "language_info": {
   "codemirror_mode": {
    "name": "ipython",
    "version": 3
   },
   "file_extension": ".py",
   "mimetype": "text/x-python",
   "name": "python",
   "nbconvert_exporter": "python",
   "pygments_lexer": "ipython3",
   "version": "3.8.5"
  }
 },
 "nbformat": 4,
 "nbformat_minor": 4
}
