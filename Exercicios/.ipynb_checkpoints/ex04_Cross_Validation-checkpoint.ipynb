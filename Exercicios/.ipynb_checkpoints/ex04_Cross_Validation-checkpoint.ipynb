{
 "cells": [
  {
   "cell_type": "markdown",
   "metadata": {},
   "source": [
    "## Verificando R2 utilizando KFold em vários Modelos"
   ]
  },
  {
   "cell_type": "code",
   "execution_count": 59,
   "metadata": {},
   "outputs": [],
   "source": [
    "import pandas as pd\n",
    "\n",
    "df = pd.read_csv(\"/home/gab/MachineLearning-Files/Exercicios/Datasets/Admission_Predict.csv\")"
   ]
  },
  {
   "cell_type": "code",
   "execution_count": 60,
   "metadata": {},
   "outputs": [],
   "source": [
    "df.drop(\"Serial No.\", axis=1, inplace=True)"
   ]
  },
  {
   "cell_type": "code",
   "execution_count": 61,
   "metadata": {},
   "outputs": [],
   "source": [
    "# Separando as variáveis entre preditoras e variável target\n",
    "y = df[\"Chance of Admit \"]\n",
    "x = df.drop(\"Chance of Admit \", axis=1)"
   ]
  },
  {
   "cell_type": "code",
   "execution_count": 65,
   "metadata": {},
   "outputs": [],
   "source": [
    "def modelosregressao(X, Y):\n",
    "    from sklearn.linear_model import LinearRegression\n",
    "    from sklearn.linear_model import Ridge\n",
    "    from sklearn.linear_model import Lasso\n",
    "    from sklearn.linear_model import ElasticNet\n",
    "    from sklearn.model_selection import cross_val_score\n",
    "    from sklearn.model_selection import KFold    \n",
    "    model_linear = LinearRegression()\n",
    "    model_ridge = Ridge(alpha=0.5)\n",
    "    model_lasso = Lasso(alpha=1, max_iter=5000, tol=0.1)\n",
    "    model_elastic = ElasticNet(l1_ratio=0.1, max_iter=1000)\n",
    "    kfold = KFold(n_splits=5, shuffle=True)\n",
    "    result_linear = cross_val_score(model_linear, X, Y, cv = kfold)\n",
    "    result_ridge = cross_val_score(model_ridge, X, Y, cv = kfold) \n",
    "    result_lasso = cross_val_score(model_lasso, X, Y, cv = kfold) \n",
    "    result_elastic = cross_val_score(model_elastic, X, Y, cv = kfold)\n",
    "    resultados = [result_linear.mean(), result_ridge.mean(),\n",
    "                 result_lasso.mean(), result_elastic.mean()]\n",
    "    nomes = [\"Regressão Linear ::\", \"Regressão Ridge ::\",\n",
    "            \"Regressão Lasso ::\", \"Regressão ElasticNet ::\"]\n",
    "    for resultado, nome in zip(resultados,nomes):\n",
    "        print(nome,resultado)\n",
    "    \n",
    " \n",
    "    "
   ]
  },
  {
   "cell_type": "code",
   "execution_count": 66,
   "metadata": {},
   "outputs": [
    {
     "name": "stdout",
     "output_type": "stream",
     "text": [
      "Regressão Linear :: 0.792388449425183\n",
      "Regressão Ridge :: 0.7910118171594729\n",
      "Regressão Lasso :: 0.2527904591355841\n",
      "Regressão ElasticNet :: 0.6621105409907175\n"
     ]
    }
   ],
   "source": [
    "modelosregressao(x, y)"
   ]
  },
  {
   "cell_type": "code",
   "execution_count": null,
   "metadata": {},
   "outputs": [],
   "source": []
  }
 ],
 "metadata": {
  "kernelspec": {
   "display_name": "Python 3",
   "language": "python",
   "name": "python3"
  },
  "language_info": {
   "codemirror_mode": {
    "name": "ipython",
    "version": 3
   },
   "file_extension": ".py",
   "mimetype": "text/x-python",
   "name": "python",
   "nbconvert_exporter": "python",
   "pygments_lexer": "ipython3",
   "version": "3.8.3"
  }
 },
 "nbformat": 4,
 "nbformat_minor": 4
}
